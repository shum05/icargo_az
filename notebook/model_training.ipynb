{
 "cells": [
  {
   "cell_type": "markdown",
   "metadata": {},
   "source": [
    "## Model Training"
   ]
  },
  {
   "cell_type": "markdown",
   "metadata": {},
   "source": [
    "### Import required packages"
   ]
  },
  {
   "cell_type": "code",
   "execution_count": 130,
   "metadata": {},
   "outputs": [],
   "source": [
    "# Basic Import\n",
    "import numpy as np\n",
    "import pandas as pd\n",
    "import matplotlib.pyplot as plt \n",
    "import seaborn as sns\n",
    "# Modelling\n",
    "from sklearn.metrics import mean_squared_error, r2_score\n",
    "from sklearn.neighbors import KNeighborsRegressor\n",
    "from sklearn.tree import DecisionTreeRegressor\n",
    "from sklearn.ensemble import RandomForestRegressor,AdaBoostRegressor\n",
    "from sklearn.svm import SVR\n",
    "from sklearn.linear_model import LinearRegression, Ridge,Lasso\n",
    "from sklearn.metrics import r2_score, mean_absolute_error, mean_squared_error\n",
    "from sklearn.model_selection import RandomizedSearchCV\n",
    "from catboost import CatBoostRegressor\n",
    "from xgboost import XGBRegressor\n",
    "import warnings"
   ]
  },
  {
   "cell_type": "markdown",
   "metadata": {},
   "source": [
    "#### Import the cleaned CSV Data as Pandas DataFrame"
   ]
  },
  {
   "cell_type": "code",
   "execution_count": 131,
   "metadata": {},
   "outputs": [],
   "source": [
    "df = pd.read_csv('data/cleaned_cargo_data.csv')"
   ]
  },
  {
   "cell_type": "markdown",
   "metadata": {},
   "source": [
    "### Top 5 and Bottom 5 rows"
   ]
  },
  {
   "cell_type": "code",
   "execution_count": 132,
   "metadata": {},
   "outputs": [
    {
     "data": {
      "text/html": [
       "<div>\n",
       "<style scoped>\n",
       "    .dataframe tbody tr th:only-of-type {\n",
       "        vertical-align: middle;\n",
       "    }\n",
       "\n",
       "    .dataframe tbody tr th {\n",
       "        vertical-align: top;\n",
       "    }\n",
       "\n",
       "    .dataframe thead th {\n",
       "        text-align: right;\n",
       "    }\n",
       "</style>\n",
       "<table border=\"1\" class=\"dataframe\">\n",
       "  <thead>\n",
       "    <tr style=\"text-align: right;\">\n",
       "      <th></th>\n",
       "      <th>gender</th>\n",
       "      <th>race_ethnicity</th>\n",
       "      <th>level_of_education</th>\n",
       "      <th>language_proficiency</th>\n",
       "      <th>training_manuals</th>\n",
       "      <th>pre_exams_average</th>\n",
       "      <th>Certification_exam_Outcome</th>\n",
       "    </tr>\n",
       "  </thead>\n",
       "  <tbody>\n",
       "    <tr>\n",
       "      <th>0</th>\n",
       "      <td>male</td>\n",
       "      <td>group A</td>\n",
       "      <td>high school</td>\n",
       "      <td>fluent</td>\n",
       "      <td>none</td>\n",
       "      <td>66.0</td>\n",
       "      <td>0</td>\n",
       "    </tr>\n",
       "    <tr>\n",
       "      <th>1</th>\n",
       "      <td>female</td>\n",
       "      <td>group E</td>\n",
       "      <td>some college</td>\n",
       "      <td>intermediate</td>\n",
       "      <td>provided</td>\n",
       "      <td>87.0</td>\n",
       "      <td>1</td>\n",
       "    </tr>\n",
       "    <tr>\n",
       "      <th>2</th>\n",
       "      <td>male</td>\n",
       "      <td>group A</td>\n",
       "      <td>some college</td>\n",
       "      <td>fluent</td>\n",
       "      <td>none</td>\n",
       "      <td>48.0</td>\n",
       "      <td>0</td>\n",
       "    </tr>\n",
       "    <tr>\n",
       "      <th>3</th>\n",
       "      <td>female</td>\n",
       "      <td>group E</td>\n",
       "      <td>some college</td>\n",
       "      <td>fluent</td>\n",
       "      <td>provided</td>\n",
       "      <td>75.0</td>\n",
       "      <td>1</td>\n",
       "    </tr>\n",
       "    <tr>\n",
       "      <th>4</th>\n",
       "      <td>male</td>\n",
       "      <td>group E</td>\n",
       "      <td>some college</td>\n",
       "      <td>fluent</td>\n",
       "      <td>none</td>\n",
       "      <td>71.0</td>\n",
       "      <td>1</td>\n",
       "    </tr>\n",
       "  </tbody>\n",
       "</table>\n",
       "</div>"
      ],
      "text/plain": [
       "   gender race_ethnicity level_of_education language_proficiency  \\\n",
       "0    male        group A        high school               fluent   \n",
       "1  female        group E       some college         intermediate   \n",
       "2    male        group A       some college               fluent   \n",
       "3  female        group E       some college               fluent   \n",
       "4    male        group E       some college               fluent   \n",
       "\n",
       "  training_manuals  pre_exams_average  Certification_exam_Outcome  \n",
       "0             none               66.0                           0  \n",
       "1         provided               87.0                           1  \n",
       "2             none               48.0                           0  \n",
       "3         provided               75.0                           1  \n",
       "4             none               71.0                           1  "
      ]
     },
     "execution_count": 132,
     "metadata": {},
     "output_type": "execute_result"
    }
   ],
   "source": [
    "\n",
    "df.head()"
   ]
  },
  {
   "cell_type": "code",
   "execution_count": 133,
   "metadata": {},
   "outputs": [
    {
     "data": {
      "text/html": [
       "<div>\n",
       "<style scoped>\n",
       "    .dataframe tbody tr th:only-of-type {\n",
       "        vertical-align: middle;\n",
       "    }\n",
       "\n",
       "    .dataframe tbody tr th {\n",
       "        vertical-align: top;\n",
       "    }\n",
       "\n",
       "    .dataframe thead th {\n",
       "        text-align: right;\n",
       "    }\n",
       "</style>\n",
       "<table border=\"1\" class=\"dataframe\">\n",
       "  <thead>\n",
       "    <tr style=\"text-align: right;\">\n",
       "      <th></th>\n",
       "      <th>gender</th>\n",
       "      <th>race_ethnicity</th>\n",
       "      <th>level_of_education</th>\n",
       "      <th>language_proficiency</th>\n",
       "      <th>training_manuals</th>\n",
       "      <th>pre_exams_average</th>\n",
       "      <th>Certification_exam_Outcome</th>\n",
       "    </tr>\n",
       "  </thead>\n",
       "  <tbody>\n",
       "    <tr>\n",
       "      <th>1112</th>\n",
       "      <td>female</td>\n",
       "      <td>group C</td>\n",
       "      <td>NaN</td>\n",
       "      <td>fluent</td>\n",
       "      <td>provided</td>\n",
       "      <td>84.0</td>\n",
       "      <td>1</td>\n",
       "    </tr>\n",
       "    <tr>\n",
       "      <th>1113</th>\n",
       "      <td>female</td>\n",
       "      <td>group E</td>\n",
       "      <td>master's degree</td>\n",
       "      <td>intermediate</td>\n",
       "      <td>none</td>\n",
       "      <td>56.0</td>\n",
       "      <td>0</td>\n",
       "    </tr>\n",
       "    <tr>\n",
       "      <th>1114</th>\n",
       "      <td>male</td>\n",
       "      <td>group D</td>\n",
       "      <td>master's degree</td>\n",
       "      <td>fluent</td>\n",
       "      <td>none</td>\n",
       "      <td>80.0</td>\n",
       "      <td>1</td>\n",
       "    </tr>\n",
       "    <tr>\n",
       "      <th>1115</th>\n",
       "      <td>female</td>\n",
       "      <td>group C</td>\n",
       "      <td>master's degree</td>\n",
       "      <td>intermediate</td>\n",
       "      <td>provided</td>\n",
       "      <td>81.0</td>\n",
       "      <td>1</td>\n",
       "    </tr>\n",
       "    <tr>\n",
       "      <th>1116</th>\n",
       "      <td>female</td>\n",
       "      <td>group D</td>\n",
       "      <td>master's degree</td>\n",
       "      <td>fluent</td>\n",
       "      <td>provided</td>\n",
       "      <td>87.0</td>\n",
       "      <td>1</td>\n",
       "    </tr>\n",
       "  </tbody>\n",
       "</table>\n",
       "</div>"
      ],
      "text/plain": [
       "      gender race_ethnicity level_of_education language_proficiency  \\\n",
       "1112  female        group C                NaN               fluent   \n",
       "1113  female        group E    master's degree         intermediate   \n",
       "1114    male        group D    master's degree               fluent   \n",
       "1115  female        group C    master's degree         intermediate   \n",
       "1116  female        group D    master's degree               fluent   \n",
       "\n",
       "     training_manuals  pre_exams_average  Certification_exam_Outcome  \n",
       "1112         provided               84.0                           1  \n",
       "1113             none               56.0                           0  \n",
       "1114             none               80.0                           1  \n",
       "1115         provided               81.0                           1  \n",
       "1116         provided               87.0                           1  "
      ]
     },
     "execution_count": 133,
     "metadata": {},
     "output_type": "execute_result"
    }
   ],
   "source": [
    "df.tail()"
   ]
  },
  {
   "cell_type": "code",
   "execution_count": 134,
   "metadata": {},
   "outputs": [],
   "source": [
    "df.dropna(inplace=True)"
   ]
  },
  {
   "cell_type": "markdown",
   "metadata": {},
   "source": [
    "## <font color=blue>Split Dataset</font>"
   ]
  },
  {
   "cell_type": "code",
   "execution_count": 135,
   "metadata": {},
   "outputs": [],
   "source": [
    "X = df.drop(columns=['Certification_exam_Outcome'],axis=1)"
   ]
  },
  {
   "cell_type": "code",
   "execution_count": 136,
   "metadata": {},
   "outputs": [
    {
     "data": {
      "text/html": [
       "<div>\n",
       "<style scoped>\n",
       "    .dataframe tbody tr th:only-of-type {\n",
       "        vertical-align: middle;\n",
       "    }\n",
       "\n",
       "    .dataframe tbody tr th {\n",
       "        vertical-align: top;\n",
       "    }\n",
       "\n",
       "    .dataframe thead th {\n",
       "        text-align: right;\n",
       "    }\n",
       "</style>\n",
       "<table border=\"1\" class=\"dataframe\">\n",
       "  <thead>\n",
       "    <tr style=\"text-align: right;\">\n",
       "      <th></th>\n",
       "      <th>gender</th>\n",
       "      <th>race_ethnicity</th>\n",
       "      <th>level_of_education</th>\n",
       "      <th>language_proficiency</th>\n",
       "      <th>training_manuals</th>\n",
       "      <th>pre_exams_average</th>\n",
       "    </tr>\n",
       "  </thead>\n",
       "  <tbody>\n",
       "    <tr>\n",
       "      <th>0</th>\n",
       "      <td>male</td>\n",
       "      <td>group A</td>\n",
       "      <td>high school</td>\n",
       "      <td>fluent</td>\n",
       "      <td>none</td>\n",
       "      <td>66.0</td>\n",
       "    </tr>\n",
       "    <tr>\n",
       "      <th>1</th>\n",
       "      <td>female</td>\n",
       "      <td>group E</td>\n",
       "      <td>some college</td>\n",
       "      <td>intermediate</td>\n",
       "      <td>provided</td>\n",
       "      <td>87.0</td>\n",
       "    </tr>\n",
       "    <tr>\n",
       "      <th>2</th>\n",
       "      <td>male</td>\n",
       "      <td>group A</td>\n",
       "      <td>some college</td>\n",
       "      <td>fluent</td>\n",
       "      <td>none</td>\n",
       "      <td>48.0</td>\n",
       "    </tr>\n",
       "    <tr>\n",
       "      <th>3</th>\n",
       "      <td>female</td>\n",
       "      <td>group E</td>\n",
       "      <td>some college</td>\n",
       "      <td>fluent</td>\n",
       "      <td>provided</td>\n",
       "      <td>75.0</td>\n",
       "    </tr>\n",
       "    <tr>\n",
       "      <th>4</th>\n",
       "      <td>male</td>\n",
       "      <td>group E</td>\n",
       "      <td>some college</td>\n",
       "      <td>fluent</td>\n",
       "      <td>none</td>\n",
       "      <td>71.0</td>\n",
       "    </tr>\n",
       "  </tbody>\n",
       "</table>\n",
       "</div>"
      ],
      "text/plain": [
       "   gender race_ethnicity level_of_education language_proficiency  \\\n",
       "0    male        group A        high school               fluent   \n",
       "1  female        group E       some college         intermediate   \n",
       "2    male        group A       some college               fluent   \n",
       "3  female        group E       some college               fluent   \n",
       "4    male        group E       some college               fluent   \n",
       "\n",
       "  training_manuals  pre_exams_average  \n",
       "0             none               66.0  \n",
       "1         provided               87.0  \n",
       "2             none               48.0  \n",
       "3         provided               75.0  \n",
       "4             none               71.0  "
      ]
     },
     "execution_count": 136,
     "metadata": {},
     "output_type": "execute_result"
    }
   ],
   "source": [
    "X.head()"
   ]
  },
  {
   "cell_type": "code",
   "execution_count": 137,
   "metadata": {},
   "outputs": [
    {
     "data": {
      "text/plain": [
       "(1095, 6)"
      ]
     },
     "execution_count": 137,
     "metadata": {},
     "output_type": "execute_result"
    }
   ],
   "source": [
    "X.shape"
   ]
  },
  {
   "cell_type": "markdown",
   "metadata": {},
   "source": [
    "### Categorical Columns"
   ]
  },
  {
   "cell_type": "code",
   "execution_count": 138,
   "metadata": {},
   "outputs": [
    {
     "name": "stdout",
     "output_type": "stream",
     "text": [
      "Categories in 'gender' variable:      ['male' 'female' 'other']\n",
      "Categories in 'race_ethnicity' variable:   ['group A' 'group E' 'group B' 'group D' 'group C']\n",
      "Categories in'level of education' variable: ['high school' 'some college' 'some high school' \"associate's degree\"\n",
      " \"bachelor's degree\" \"master's degree\"]\n",
      "Categories in 'language proficiency' variable:      ['fluent' 'intermediate' 'limitted']\n",
      "Categories in 'training manuals' variable:      ['none' 'provided']\n"
     ]
    }
   ],
   "source": [
    "# unique values in cat columns\n",
    "print(\"Categories in 'gender' variable:     \",end=\" \" )\n",
    "print(df['gender'].unique())\n",
    "\n",
    "print(\"Categories in 'race_ethnicity' variable:  \",end=\" \")\n",
    "print(df['race_ethnicity'].unique())\n",
    "\n",
    "print(\"Categories in'level of education' variable:\",end=\" \" )\n",
    "print(df['level_of_education'].unique())\n",
    "\n",
    "print(\"Categories in 'language proficiency' variable:     \",end=\" \" )\n",
    "print(df['language_proficiency'].unique())\n",
    "\n",
    "print(\"Categories in 'training manuals' variable:     \",end=\" \" )\n",
    "print(df['training_manuals'].unique())"
   ]
  },
  {
   "cell_type": "code",
   "execution_count": 139,
   "metadata": {},
   "outputs": [
    {
     "name": "stdout",
     "output_type": "stream",
     "text": [
      "female\n"
     ]
    }
   ],
   "source": [
    "# replace the gender with 'Other' values with mode of the col\n",
    "mode_gender = df['gender'].mode()[0]\n",
    "print(mode_gender)\n",
    "# Replace 'Other' values with the mode value\n",
    "df['gender'] = df['gender'].replace('other', mode_gender)"
   ]
  },
  {
   "cell_type": "code",
   "execution_count": 140,
   "metadata": {},
   "outputs": [
    {
     "name": "stdout",
     "output_type": "stream",
     "text": [
      "['male' 'female']\n"
     ]
    }
   ],
   "source": [
    "\n",
    "print(df['gender'].unique())"
   ]
  },
  {
   "cell_type": "code",
   "execution_count": 141,
   "metadata": {},
   "outputs": [],
   "source": [
    "y = df['Certification_exam_Outcome']"
   ]
  },
  {
   "cell_type": "code",
   "execution_count": 142,
   "metadata": {},
   "outputs": [
    {
     "data": {
      "text/plain": [
       "(1095,)"
      ]
     },
     "execution_count": 142,
     "metadata": {},
     "output_type": "execute_result"
    }
   ],
   "source": [
    "y.shape"
   ]
  },
  {
   "cell_type": "code",
   "execution_count": 143,
   "metadata": {},
   "outputs": [
    {
     "data": {
      "text/plain": [
       "0       0\n",
       "1       1\n",
       "2       0\n",
       "3       1\n",
       "4       1\n",
       "       ..\n",
       "1111    0\n",
       "1113    0\n",
       "1114    1\n",
       "1115    1\n",
       "1116    1\n",
       "Name: Certification_exam_Outcome, Length: 1095, dtype: int64"
      ]
     },
     "execution_count": 143,
     "metadata": {},
     "output_type": "execute_result"
    }
   ],
   "source": [
    "y\n"
   ]
  },
  {
   "cell_type": "code",
   "execution_count": 144,
   "metadata": {},
   "outputs": [],
   "source": [
    "# Create Column Transformer with 3 types of transformers\n",
    "#  categorical features using OneHotEncoder,\n",
    "# numeric features using StandardScaler.\n",
    "num_features = X.select_dtypes(exclude=\"object\").columns\n",
    "cat_features = X.select_dtypes(include=\"object\").columns\n",
    "\n",
    "from sklearn.preprocessing import OneHotEncoder, StandardScaler\n",
    "from sklearn.compose import ColumnTransformer\n",
    "\n",
    "numeric_transformer = StandardScaler()\n",
    "oh_transformer = OneHotEncoder()\n",
    "\n",
    "preprocessor = ColumnTransformer(\n",
    "    [\n",
    "        (\"OneHotEncoder\", oh_transformer, cat_features),\n",
    "         (\"StandardScaler\", numeric_transformer, num_features),        \n",
    "    ]\n",
    ")"
   ]
  },
  {
   "cell_type": "code",
   "execution_count": 145,
   "metadata": {},
   "outputs": [],
   "source": [
    "\n",
    "X_preprocessed = preprocessor.fit_transform(X)"
   ]
  },
  {
   "cell_type": "code",
   "execution_count": 146,
   "metadata": {},
   "outputs": [
    {
     "data": {
      "text/plain": [
       "(1095, 20)"
      ]
     },
     "execution_count": 146,
     "metadata": {},
     "output_type": "execute_result"
    }
   ],
   "source": [
    "X_preprocessed.shape"
   ]
  },
  {
   "cell_type": "markdown",
   "metadata": {},
   "source": [
    "### Handling imbalanced data"
   ]
  },
  {
   "cell_type": "code",
   "execution_count": 147,
   "metadata": {},
   "outputs": [
    {
     "data": {
      "text/plain": [
       "Certification_exam_Outcome\n",
       "1    620\n",
       "0    475\n",
       "Name: count, dtype: int64"
      ]
     },
     "execution_count": 147,
     "metadata": {},
     "output_type": "execute_result"
    }
   ],
   "source": [
    "y.value_counts()"
   ]
  },
  {
   "cell_type": "code",
   "execution_count": 148,
   "metadata": {},
   "outputs": [],
   "source": [
    "from imblearn.over_sampling import SMOTE"
   ]
  },
  {
   "cell_type": "code",
   "execution_count": 149,
   "metadata": {},
   "outputs": [],
   "source": [
    "X_resampled, y_resampled =SMOTE().fit_resample(X_preprocessed,y)"
   ]
  },
  {
   "cell_type": "code",
   "execution_count": 150,
   "metadata": {},
   "outputs": [
    {
     "data": {
      "text/plain": [
       "Certification_exam_Outcome\n",
       "0    620\n",
       "1    620\n",
       "Name: count, dtype: int64"
      ]
     },
     "execution_count": 150,
     "metadata": {},
     "output_type": "execute_result"
    }
   ],
   "source": [
    "y_resampled.value_counts()"
   ]
  },
  {
   "cell_type": "code",
   "execution_count": 151,
   "metadata": {},
   "outputs": [
    {
     "data": {
      "text/plain": [
       "((992, 20), (248, 20))"
      ]
     },
     "execution_count": 151,
     "metadata": {},
     "output_type": "execute_result"
    }
   ],
   "source": [
    "# separate dataset into train and test\n",
    "from sklearn.model_selection import train_test_split\n",
    "X_train, X_test, y_train, y_test = train_test_split(X_resampled,y_resampled,test_size=0.2,random_state=42)\n",
    "X_train.shape, X_test.shape"
   ]
  },
  {
   "cell_type": "code",
   "execution_count": 152,
   "metadata": {},
   "outputs": [
    {
     "data": {
      "text/plain": [
       "(992, 20)"
      ]
     },
     "execution_count": 152,
     "metadata": {},
     "output_type": "execute_result"
    }
   ],
   "source": [
    "X_train.shape"
   ]
  },
  {
   "cell_type": "code",
   "execution_count": 153,
   "metadata": {},
   "outputs": [
    {
     "data": {
      "text/plain": [
       "array([[ 1.        ,  0.        ,  0.        , ...,  0.        ,\n",
       "         1.        ,  1.45817344],\n",
       "       [ 0.        ,  1.        ,  0.        , ...,  0.        ,\n",
       "         1.        ,  0.01251084],\n",
       "       [ 1.        ,  0.        ,  0.        , ...,  1.        ,\n",
       "         0.        ,  0.21903407],\n",
       "       ...,\n",
       "       [ 0.        ,  1.        ,  0.        , ...,  1.        ,\n",
       "         0.        , -0.90293155],\n",
       "       [ 0.        ,  1.        ,  0.        , ...,  0.        ,\n",
       "         1.        ,  0.35671622],\n",
       "       [ 0.        ,  1.        ,  0.        , ...,  1.        ,\n",
       "         0.        , -1.63967498]])"
      ]
     },
     "execution_count": 153,
     "metadata": {},
     "output_type": "execute_result"
    }
   ],
   "source": [
    "X_train"
   ]
  },
  {
   "cell_type": "code",
   "execution_count": 154,
   "metadata": {},
   "outputs": [
    {
     "data": {
      "text/plain": [
       "0       0\n",
       "1       1\n",
       "2       0\n",
       "3       1\n",
       "4       1\n",
       "       ..\n",
       "1111    0\n",
       "1113    0\n",
       "1114    1\n",
       "1115    1\n",
       "1116    1\n",
       "Name: Certification_exam_Outcome, Length: 1095, dtype: int64"
      ]
     },
     "execution_count": 154,
     "metadata": {},
     "output_type": "execute_result"
    }
   ],
   "source": [
    "y"
   ]
  },
  {
   "cell_type": "code",
   "execution_count": 155,
   "metadata": {},
   "outputs": [],
   "source": [
    "#### Create a Function to give all metrics after model Training\n",
    "def evaluate_model(true, predicted):\n",
    "    mae = mean_absolute_error(true, predicted)\n",
    "    mse = mean_squared_error(true, predicted)\n",
    "    rmse = np.sqrt(mean_squared_error(true, predicted))\n",
    "    r2_square = r2_score(true, predicted)\n",
    "    return mae, rmse, r2_square"
   ]
  },
  {
   "cell_type": "code",
   "execution_count": 156,
   "metadata": {},
   "outputs": [],
   "source": [
    "# import matplotlib.pyplot as plt\n",
    "# import numpy as np\n",
    "\n",
    "# models = {\n",
    "#     \"Linear Regression\": LinearRegression(),\n",
    "#     \"Lasso\": Lasso(),\n",
    "#     \"Ridge\": Ridge(),\n",
    "#     \"K-Neighbors Regressor\": KNeighborsRegressor(),\n",
    "#     \"Decision Tree\": DecisionTreeRegressor(),\n",
    "#     \"Random Forest Regressor\": RandomForestRegressor(),\n",
    "#     \"XGBRegressor\": XGBRegressor(), \n",
    "#     \"CatBoosting Regressor\": CatBoostRegressor(verbose=False),\n",
    "#     \"AdaBoost Regressor\": AdaBoostRegressor()\n",
    "# }\n",
    "\n",
    "# model_list = []\n",
    "# r2_list = []\n",
    "\n",
    "# for model_name, model in models.items():\n",
    "#     model.fit(X_train, y_train)  # Train model\n",
    "\n",
    "#     # Make predictions\n",
    "#     y_test_pred = model.predict(X_test)\n",
    "\n",
    "#     # Evaluate Test dataset\n",
    "#     _, _, model_test_r2 = evaluate_model(y_test, y_test_pred)\n",
    "\n",
    "#     print(model_name)\n",
    "#     model_list.append(model_name)\n",
    "\n",
    "#     print('Model performance for Test set')\n",
    "#     print(\"- R2 Score: {:.4f}\".format(model_test_r2))\n",
    "#     r2_list.append(model_test_r2)\n",
    "\n",
    "#     print('=' * 35)\n",
    "#     print('\\n')\n",
    "\n",
    "# # Create a bar graph of R2 scores for each model with annotations\n",
    "# plt.figure(figsize=(12, 6))\n",
    "# bars = plt.barh(model_list, r2_list, color='skyblue')\n",
    "# plt.xlabel('R2 Score')\n",
    "# plt.ylabel('Model')\n",
    "# plt.title('R2 Score for Different Regression Models')\n",
    "# plt.xlim([0, 1])  # Set the x-axis limit between 0 and 1 for R2 scores\n",
    "\n",
    "# # Add annotations to the bars\n",
    "# for bar, r2_score in zip(bars, r2_list):\n",
    "#     plt.text(bar.get_width(), bar.get_y() + bar.get_height() / 2, f'{r2_score:.4f}', ha='left', va='center')\n",
    "\n",
    "# plt.gca().invert_yaxis()  # Invert the y-axis to show the highest score at the top\n",
    "# plt.show()\n"
   ]
  },
  {
   "cell_type": "code",
   "execution_count": 165,
   "metadata": {},
   "outputs": [
    {
     "name": "stdout",
     "output_type": "stream",
     "text": [
      "Logistic Regression: Accuracy = 0.89\n",
      "Random Forest Classifier: Accuracy = 0.89\n",
      "K-Nearest Neighbors: Accuracy = 0.83\n",
      "Decision Tree Classifier: Accuracy = 0.83\n",
      "AdaBoost Classifier: Accuracy = 0.88\n"
     ]
    },
    {
     "name": "stderr",
     "output_type": "stream",
     "text": [
      "c:\\Users\\seben\\Google Drive\\Data Science-2023\\icargo_ML_project\\venv_icargo\\lib\\site-packages\\xgboost\\data.py:520: FutureWarning: is_sparse is deprecated and will be removed in a future version. Check `isinstance(dtype, pd.SparseDtype)` instead.\n",
      "  if is_sparse(data):\n"
     ]
    },
    {
     "name": "stdout",
     "output_type": "stream",
     "text": [
      "XGBoost Classifier: Accuracy = 0.85\n",
      "CatBoost Classifier: Accuracy = 0.88\n",
      "Support Vector Classifier: Accuracy = 0.89\n"
     ]
    }
   ],
   "source": [
    "import matplotlib.pyplot as plt\n",
    "import numpy as np\n",
    "from sklearn.model_selection import train_test_split\n",
    "from sklearn.metrics import accuracy_score, classification_report\n",
    "from sklearn.ensemble import RandomForestClassifier\n",
    "from sklearn.neighbors import KNeighborsClassifier\n",
    "from sklearn.tree import DecisionTreeClassifier\n",
    "from sklearn.ensemble import AdaBoostClassifier\n",
    "from sklearn.preprocessing import LabelEncoder\n",
    "from xgboost import XGBClassifier\n",
    "from catboost import CatBoostClassifier\n",
    "from sklearn.linear_model import LogisticRegression\n",
    "from sklearn.svm import SVC\n",
    "\n",
    "# Assuming you have your feature matrix X and target vector y\n",
    "# X should contain your features, and y should contain the corresponding class labels.\n",
    "\n",
    "# Split the data into training and testing sets\n",
    "# X_train, X_test, y_train, y_test = train_test_split(X, y, test_size=0.2, random_state=42)\n",
    "\n",
    "models = {\n",
    "    \"Logistic Regression\": LogisticRegression(),\n",
    "    \"Random Forest Classifier\": RandomForestClassifier(),\n",
    "    \"K-Nearest Neighbors\": KNeighborsClassifier(),\n",
    "    \"Decision Tree Classifier\": DecisionTreeClassifier(),\n",
    "    \"AdaBoost Classifier\": AdaBoostClassifier(),\n",
    "    \"XGBoost Classifier\": XGBClassifier(),\n",
    "    \"CatBoost Classifier\": CatBoostClassifier(verbose=False),\n",
    "    \"Support Vector Classifier\": SVC(probability=True)\n",
    "}\n",
    "\n",
    "model_list = []\n",
    "accuracy_list = []\n",
    "\n",
    "for model_name, model in models.items():\n",
    "    # Train the model\n",
    "    model.fit(X_train, y_train)\n",
    "    \n",
    "    # Make predictions\n",
    "    y_pred = model.predict(X_test)\n",
    "    \n",
    "    # Calculate accuracy\n",
    "    accuracy = accuracy_score(y_test, y_pred)\n",
    "    \n",
    "    # Append results to lists\n",
    "    model_list.append(model_name)\n",
    "    accuracy_list.append(accuracy)\n",
    "    \n",
    "    # Display results with labels\n",
    "    print(f\"{model_name}: Accuracy = {accuracy:.2f}\")\n",
    "\n",
    "# # Plot the accuracy of different models with labels\n",
    "# plt.figure(figsize=(10, 6))\n",
    "# bars = plt.bar(model_list, accuracy_list)\n",
    "# plt.xlabel('Classifier')\n",
    "# plt.ylabel('Accuracy')\n",
    "# plt.title('Classifier Accuracy Comparison')\n",
    "# plt.xticks(rotation=45)\n",
    "\n",
    "# # Add labels to each bar\n",
    "# for bar, accuracy in zip(bars, accuracy_list):\n",
    "#     plt.text(bar.get_x() + bar.get_width() / 2, bar.get_height() + 0.01, f'{accuracy:.2f}', ha='center', fontsize=10)\n",
    "\n",
    "# plt.tight_layout()\n",
    "# plt.show()\n",
    "\n",
    "# You can further evaluate and fine-tune the chosen classification model.\n"
   ]
  },
  {
   "cell_type": "code",
   "execution_count": null,
   "metadata": {},
   "outputs": [
    {
     "name": "stdout",
     "output_type": "stream",
     "text": [
      "Logistic Regression: Accuracy = 0.89\n",
      "Random Forest Classifier: Accuracy = 0.89\n",
      "K-Nearest Neighbors: Accuracy = 0.83\n",
      "Decision Tree Classifier: Accuracy = 0.83\n",
      "AdaBoost Classifier: Accuracy = 0.88\n"
     ]
    },
    {
     "name": "stderr",
     "output_type": "stream",
     "text": [
      "c:\\Users\\seben\\Google Drive\\Data Science-2023\\icargo_ML_project\\venv_icargo\\lib\\site-packages\\xgboost\\data.py:520: FutureWarning: is_sparse is deprecated and will be removed in a future version. Check `isinstance(dtype, pd.SparseDtype)` instead.\n",
      "  if is_sparse(data):\n"
     ]
    },
    {
     "name": "stdout",
     "output_type": "stream",
     "text": [
      "XGBoost Classifier: Accuracy = 0.85\n",
      "CatBoost Classifier: Accuracy = 0.88\n",
      "Support Vector Classifier: Accuracy = 0.89\n"
     ]
    }
   ],
   "source": [
    "import matplotlib.pyplot as plt\n",
    "import numpy as np\n",
    "from sklearn.model_selection import train_test_split\n",
    "from sklearn.metrics import accuracy_score, classification_report\n",
    "from sklearn.ensemble import RandomForestClassifier\n",
    "from sklearn.neighbors import KNeighborsClassifier\n",
    "from sklearn.tree import DecisionTreeClassifier\n",
    "from sklearn.ensemble import AdaBoostClassifier\n",
    "from sklearn.preprocessing import LabelEncoder\n",
    "from xgboost import XGBClassifier\n",
    "from catboost import CatBoostClassifier\n",
    "from sklearn.linear_model import LogisticRegression\n",
    "from sklearn.svm import SVC\n",
    "\n",
    "# Assuming you have your feature matrix X and target vector y\n",
    "# X should contain your features, and y should contain the corresponding class labels.\n",
    "\n",
    "# Split the data into training and testing sets\n",
    "# X_train, X_test, y_train, y_test = train_test_split(X, y, test_size=0.2, random_state=42)\n",
    "\n",
    "models = {\n",
    "    \"Logistic Regression\": LogisticRegression(),\n",
    "    \"Random Forest Classifier\": RandomForestClassifier(),\n",
    "    \"K-Nearest Neighbors\": KNeighborsClassifier(),\n",
    "    \"Decision Tree Classifier\": DecisionTreeClassifier(),\n",
    "    \"AdaBoost Classifier\": AdaBoostClassifier(),\n",
    "    \"XGBoost Classifier\": XGBClassifier(),\n",
    "    \"CatBoost Classifier\": CatBoostClassifier(verbose=False),\n",
    "    \"Support Vector Classifier\": SVC(probability=True)\n",
    "}\n",
    "\n",
    "model_list = []\n",
    "accuracy_list = []\n",
    "\n",
    "for model_name, model in models.items():\n",
    "    # Train the model\n",
    "    model.fit(X_train, y_train)\n",
    "    \n",
    "    # Make predictions\n",
    "    y_pred = model.predict(X_test)\n",
    "    \n",
    "    # Calculate accuracy\n",
    "    accuracy = accuracy_score(y_test, y_pred)\n",
    "    \n",
    "    # Append results to lists\n",
    "    model_list.append(model_name)\n",
    "    accuracy_list.append(accuracy)\n",
    "    \n",
    "    # Display results with labels\n",
    "    print(f\"{model_name}: Accuracy = {accuracy:.2f}\")\n",
    "\n",
    "# # Plot the accuracy of different models with labels\n",
    "# plt.figure(figsize=(10, 6))\n",
    "# bars = plt.bar(model_list, accuracy_list)\n",
    "# plt.xlabel('Classifier')\n",
    "# plt.ylabel('Accuracy')\n",
    "# plt.title('Classifier Accuracy Comparison')\n",
    "# plt.xticks(rotation=45)\n",
    "\n",
    "# # Add labels to each bar\n",
    "# for bar, accuracy in zip(bars, accuracy_list):\n",
    "#     plt.text(bar.get_x() + bar.get_width() / 2, bar.get_height() + 0.01, f'{accuracy:.2f}', ha='center', fontsize=10)\n",
    "\n",
    "# plt.tight_layout()\n",
    "# plt.show()\n",
    "\n",
    "# You can further evaluate and fine-tune the chosen classification model.\n"
   ]
  },
  {
   "cell_type": "code",
   "execution_count": 167,
   "metadata": {},
   "outputs": [
    {
     "data": {
      "image/png": "[encoded data removed]",
      "text/plain": [
       "<Figure size 1000x600 with 1 Axes>"
      ]
     },
     "metadata": {},
     "output_type": "display_data"
    }
   ],
   "source": [
    "\n",
    "cmap = plt.get_cmap('coolwarm')\n",
    "\n",
    "# Create a dictionary to map unique accuracy values to colors\n",
    "unique_accuracies = list(set(accuracy_list))\n",
    "color_mapping = {accuracy: cmap(i / len(unique_accuracies)) for i, accuracy in enumerate(unique_accuracies)}\n",
    "\n",
    "# Map colors to each accuracy value\n",
    "colors = [color_mapping[accuracy] for accuracy in accuracy_list]\n",
    "\n",
    "# Plot the accuracy of different models with colored bars\n",
    "plt.figure(figsize=(10, 6))\n",
    "bars = plt.bar(model_list, accuracy_list, color=colors)  # Assign colors to bars\n",
    "\n",
    "plt.xlabel('Classifier')\n",
    "plt.ylabel('Accuracy')\n",
    "plt.title('Classifier Accuracy Comparison')\n",
    "plt.xticks(rotation=45)\n",
    "\n",
    "# Add labels to each bar\n",
    "for bar, accuracy in zip(bars, accuracy_list):\n",
    "    plt.text(bar.get_x() + bar.get_width() / 2, bar.get_height() + 0.01, f'{accuracy:.2f}', ha='center', fontsize=10)\n",
    "\n",
    "plt.tight_layout()\n",
    "plt.show()\n",
    "\n",
    "# You can further evaluate and fine-tune the chosen classification model.\n"
   ]
  },
  {
   "cell_type": "markdown",
   "metadata": {},
   "source": [
    "Logistic Regression,RF and SVC perform equally (94% accuracy). due to its Scalability, Logistic Regression is relatively easy to deploy and scale in production environments. SVMs can be more complex to deploy due to kernel choices and hyperparameter tuning."
   ]
  },
  {
   "cell_type": "markdown",
   "metadata": {},
   "source": [
    "## Logistic Regression"
   ]
  },
  {
   "cell_type": "code",
   "execution_count": 158,
   "metadata": {},
   "outputs": [
    {
     "name": "stdout",
     "output_type": "stream",
     "text": [
      "R2 Score for Logistic Regression: 0.5638\n"
     ]
    }
   ],
   "source": [
    "from sklearn.linear_model import LogisticRegression\n",
    "from sklearn.metrics import r2_score\n",
    "\n",
    "# Create and fit the Logistic Regression model\n",
    "logistic_model = LogisticRegression()\n",
    "logistic_model.fit(X_train, y_train)\n",
    "\n",
    "# Make predictions on the test set\n",
    "y_pred_logistic = logistic_model.predict(X_test)\n",
    "\n",
    "# Calculate the R2 score (Note: R2 score is typically used for regression, not classification)\n",
    "# For classification, you may consider using other metrics like accuracy, precision, recall, etc.\n",
    "# R2 score is not a suitable metric for classification tasks.\n",
    "r2_logistic = r2_score(y_test, y_pred_logistic)\n",
    "\n",
    "print(\"R2 Score for Logistic Regression: {:.4f}\".format(r2_logistic))\n",
    "\n"
   ]
  },
  {
   "cell_type": "markdown",
   "metadata": {},
   "source": [
    "##  y_pred and y_test plts"
   ]
  },
  {
   "cell_type": "code",
   "execution_count": 159,
   "metadata": {},
   "outputs": [
    {
     "data": {
      "image/png": "[encoded data removed]",
      "text/plain": [
       "<Figure size 800x600 with 1 Axes>"
      ]
     },
     "metadata": {},
     "output_type": "display_data"
    }
   ],
   "source": [
    "plt.figure(figsize=(8, 6))\n",
    "plt.scatter(y_test, y_pred_logistic, alpha=0.5)\n",
    "plt.xlabel('Actual')\n",
    "plt.ylabel('Predicted')\n",
    "plt.title('Actual vs. Predicted Values (Logistic Regression)')\n",
    "plt.grid(True)\n",
    "plt.show()"
   ]
  },
  {
   "cell_type": "code",
   "execution_count": 160,
   "metadata": {},
   "outputs": [
    {
     "data": {
      "image/png": "[encoded data removed]",
      "text/plain": [
       "<Figure size 640x480 with 1 Axes>"
      ]
     },
     "metadata": {},
     "output_type": "display_data"
    }
   ],
   "source": [
    "sns.regplot(x=y_test, y=y_pred_logistic, ci=None, color='green')\n",
    "\n",
    "# Add labels and a title\n",
    "plt.xlabel('Actual Values')\n",
    "plt.ylabel('Predicted Values by CatBoost')\n",
    "plt.title('Regression Plot for Log Regressor')\n",
    "\n",
    "# Show the plot\n",
    "plt.show()"
   ]
  },
  {
   "cell_type": "markdown",
   "metadata": {},
   "source": [
    "### Actual and Pred values differences"
   ]
  },
  {
   "cell_type": "code",
   "execution_count": 161,
   "metadata": {},
   "outputs": [
    {
     "data": {
      "text/html": [
       "<div>\n",
       "<style scoped>\n",
       "    .dataframe tbody tr th:only-of-type {\n",
       "        vertical-align: middle;\n",
       "    }\n",
       "\n",
       "    .dataframe tbody tr th {\n",
       "        vertical-align: top;\n",
       "    }\n",
       "\n",
       "    .dataframe thead th {\n",
       "        text-align: right;\n",
       "    }\n",
       "</style>\n",
       "<table border=\"1\" class=\"dataframe\">\n",
       "  <thead>\n",
       "    <tr style=\"text-align: right;\">\n",
       "      <th></th>\n",
       "      <th>Actual Value</th>\n",
       "      <th>Predicted Value</th>\n",
       "      <th>Difference</th>\n",
       "    </tr>\n",
       "  </thead>\n",
       "  <tbody>\n",
       "    <tr>\n",
       "      <th>415</th>\n",
       "      <td>1</td>\n",
       "      <td>1</td>\n",
       "      <td>0</td>\n",
       "    </tr>\n",
       "    <tr>\n",
       "      <th>259</th>\n",
       "      <td>1</td>\n",
       "      <td>1</td>\n",
       "      <td>0</td>\n",
       "    </tr>\n",
       "    <tr>\n",
       "      <th>332</th>\n",
       "      <td>1</td>\n",
       "      <td>1</td>\n",
       "      <td>0</td>\n",
       "    </tr>\n",
       "    <tr>\n",
       "      <th>622</th>\n",
       "      <td>1</td>\n",
       "      <td>0</td>\n",
       "      <td>1</td>\n",
       "    </tr>\n",
       "    <tr>\n",
       "      <th>101</th>\n",
       "      <td>0</td>\n",
       "      <td>0</td>\n",
       "      <td>0</td>\n",
       "    </tr>\n",
       "    <tr>\n",
       "      <th>...</th>\n",
       "      <td>...</td>\n",
       "      <td>...</td>\n",
       "      <td>...</td>\n",
       "    </tr>\n",
       "    <tr>\n",
       "      <th>649</th>\n",
       "      <td>1</td>\n",
       "      <td>0</td>\n",
       "      <td>1</td>\n",
       "    </tr>\n",
       "    <tr>\n",
       "      <th>976</th>\n",
       "      <td>0</td>\n",
       "      <td>0</td>\n",
       "      <td>0</td>\n",
       "    </tr>\n",
       "    <tr>\n",
       "      <th>178</th>\n",
       "      <td>1</td>\n",
       "      <td>1</td>\n",
       "      <td>0</td>\n",
       "    </tr>\n",
       "    <tr>\n",
       "      <th>31</th>\n",
       "      <td>0</td>\n",
       "      <td>1</td>\n",
       "      <td>-1</td>\n",
       "    </tr>\n",
       "    <tr>\n",
       "      <th>519</th>\n",
       "      <td>1</td>\n",
       "      <td>1</td>\n",
       "      <td>0</td>\n",
       "    </tr>\n",
       "  </tbody>\n",
       "</table>\n",
       "<p>248 rows × 3 columns</p>\n",
       "</div>"
      ],
      "text/plain": [
       "     Actual Value  Predicted Value  Difference\n",
       "415             1                1           0\n",
       "259             1                1           0\n",
       "332             1                1           0\n",
       "622             1                0           1\n",
       "101             0                0           0\n",
       "..            ...              ...         ...\n",
       "649             1                0           1\n",
       "976             0                0           0\n",
       "178             1                1           0\n",
       "31              0                1          -1\n",
       "519             1                1           0\n",
       "\n",
       "[248 rows x 3 columns]"
      ]
     },
     "execution_count": 161,
     "metadata": {},
     "output_type": "execute_result"
    }
   ],
   "source": [
    "pred_df=pd.DataFrame({'Actual Value':y_test,'Predicted Value':y_pred_logistic,'Difference':y_test-y_pred_logistic})\n",
    "pred_df"
   ]
  },
  {
   "cell_type": "code",
   "execution_count": 169,
   "metadata": {},
   "outputs": [
    {
     "name": "stdout",
     "output_type": "stream",
     "text": [
      "The max difference is:\n",
      "1\n",
      "\n",
      "\n",
      "The min difference is:\n",
      "-1\n"
     ]
    }
   ],
   "source": [
    "print(\"The max difference is:\")\n",
    "print(pred_df['Difference'].max())\n",
    "print(\"\\n\")\n",
    "print(\"The min difference is:\")\n",
    "print(pred_df['Difference'].min())\n"
   ]
  },
  {
   "cell_type": "markdown",
   "metadata": {},
   "source": [
    "# ________________AMAZING JOB!!! ________________________"
   ]
  }
 ],
 "metadata": {
  "kernelspec": {
   "display_name": "Python 3",
   "language": "python",
   "name": "python3"
  },
  "language_info": {
   "codemirror_mode": {
    "name": "ipython",
    "version": 3
   },
   "file_extension": ".py",
   "mimetype": "text/x-python",
   "name": "python",
   "nbconvert_exporter": "python",
   "pygments_lexer": "ipython3",
   "version": "3.9.18"
  },
  "orig_nbformat": 4
 },
 "nbformat": 4,
 "nbformat_minor": 2
}
